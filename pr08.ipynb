{
 "cells": [
  {
   "cell_type": "markdown",
   "id": "4397e012",
   "metadata": {},
   "source": [
    "# Дискретные преобразования Фурье"
   ]
  },
  {
   "cell_type": "markdown",
   "id": "7374ff6d",
   "metadata": {},
   "source": [
    "## В1"
   ]
  },
  {
   "cell_type": "markdown",
   "id": "92660515",
   "metadata": {},
   "source": [
    "Сравнить скорость выполнения алгоритма np.fft.fft из библиотеки\n",
    "NumPy и непосредственной (собственной) реализации формулы\n"
   ]
  },
  {
   "cell_type": "code",
   "execution_count": 3,
   "id": "9d785e8b",
   "metadata": {},
   "outputs": [
    {
     "name": "stdout",
     "output_type": "stream",
     "text": [
      "8.34 µs ± 139 ns per loop (mean ± std. dev. of 7 runs, 100000 loops each)\n",
      "25.9 µs ± 2.69 µs per loop (mean ± std. dev. of 7 runs, 10000 loops each)\n"
     ]
    },
    {
     "data": {
      "text/plain": [
       "True"
      ]
     },
     "execution_count": 3,
     "metadata": {},
     "output_type": "execute_result"
    }
   ],
   "source": [
    "import numpy as np\n",
    "n = 512\n",
    "f = np.random.rand(n)\n",
    "\n",
    "%timeit np.fft.fft(f)\n",
    "\n",
    "k = np.arange(n)\n",
    "m = k.reshape((n,1))\n",
    "w = np.exp(-2j * np.pi * m * k / n)\n",
    "%timeit np.dot(w,f)\n",
    "\n",
    "ftfast = np.fft.fft(f)\n",
    "ftslow = np.dot(w,f)\n",
    "np.allclose(ftfast, ftslow)"
   ]
  },
  {
   "cell_type": "code",
   "execution_count": null,
   "id": "9e61ea05",
   "metadata": {},
   "outputs": [],
   "source": []
  }
 ],
 "metadata": {
  "kernelspec": {
   "display_name": "Python 3",
   "language": "python",
   "name": "python3"
  },
  "language_info": {
   "codemirror_mode": {
    "name": "ipython",
    "version": 3
   },
   "file_extension": ".py",
   "mimetype": "text/x-python",
   "name": "python",
   "nbconvert_exporter": "python",
   "pygments_lexer": "ipython3",
   "version": "3.8.8"
  }
 },
 "nbformat": 4,
 "nbformat_minor": 5
}

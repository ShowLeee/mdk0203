{
 "cells": [
  {
   "cell_type": "markdown",
   "id": "b7bdeac9",
   "metadata": {},
   "source": [
    "# Линейная алгебра"
   ]
  },
  {
   "cell_type": "markdown",
   "id": "9266614e",
   "metadata": {},
   "source": [
    "## В1"
   ]
  },
  {
   "cell_type": "markdown",
   "id": "0d09d55c",
   "metadata": {},
   "source": [
    "Показать, что три матрицы Паули, являются унитарными (единичными). То есть что σp† σp = I2 при p = x, y, z, где I2 – матрица тождественности, а символ † обозначает эрмитову сопряженность (сопряженное транспонирование)."
   ]
  },
  {
   "cell_type": "code",
   "execution_count": 3,
   "id": "82a89e77",
   "metadata": {},
   "outputs": [
    {
     "ename": "SyntaxError",
     "evalue": "invalid syntax (<ipython-input-3-8fe1511b3a7b>, line 7)",
     "output_type": "error",
     "traceback": [
      "\u001b[1;36m  File \u001b[1;32m\"<ipython-input-3-8fe1511b3a7b>\"\u001b[1;36m, line \u001b[1;32m7\u001b[0m\n\u001b[1;33m    In [x]: for sigma in pauli_matrices:\u001b[0m\n\u001b[1;37m            ^\u001b[0m\n\u001b[1;31mSyntaxError\u001b[0m\u001b[1;31m:\u001b[0m invalid syntax\n"
     ]
    }
   ],
   "source": [
    "In [x]: pauli_matrices = np.array((\n",
    "((0, 1), (1, 0)),\n",
    "((0, -1j), (1j, 0)),\n",
    "((1, 0), (0, -1))\n",
    "))\n",
    "In [x]: I2 - np.eye(2)\n",
    "In [x]: for sigma in pauli_matrices:\n",
    "    ...:    print(np.allclose(sigma.T.conj().dot(sigma), I2))\n",
    "True\n",
    "True\n",
    "True"
   ]
  },
  {
   "cell_type": "markdown",
   "id": "9435d312",
   "metadata": {},
   "source": [
    "# B2"
   ]
  },
  {
   "cell_type": "markdown",
   "id": "d8510b1d",
   "metadata": {},
   "source": [
    "Тикер-таймер, часто используемый в школьных физических экспериментах, представляет собой устройство, которое наносит точечные метки на полоску бумажной ленты через равномерные интервалы времени, тогда как лента перемещается через тикер-таймер с некоторой (возможно, переменной) скоростью. Приведенные ниже данные соответствуют позициям (в см) меток на ленте, протягиваемой сквозь тикер-таймер падающим грузом. Метки наносятся через каждые 1/10 с.\n",
    "\n",
    "x = [1.3, 6.0, 20.2, 43.9, 77.0, 119.6, 171.7, 233.2, 304.2, 384.7,\n",
    " 474.7, 574.1, 683.0, 801.3, 929.2, 1066.4, 1213.2, 1369.4, 1535.1,\n",
    " 1710.3, 1894.9]\n",
    "Выполнить подгонку этих данных к функции\n",
    "\n",
    "x = x0 + v0t + 1/2gt^2\n",
    "\n",
    "и определить приблизительное значение ускорения свободного падения g."
   ]
  },
  {
   "cell_type": "code",
   "execution_count": 4,
   "id": "0d4440b2",
   "metadata": {},
   "outputs": [
    {
     "name": "stdout",
     "output_type": "stream",
     "text": [
      "x0 = 1.28 cm, v0 = -0.04 cm.s-1, g = 9.47 m.s-2\n"
     ]
    },
    {
     "name": "stderr",
     "output_type": "stream",
     "text": [
      "<ipython-input-4-41116d56d9a7>:11: FutureWarning: `rcond` parameter will change to the default of machine precision times ``max(M, N)`` where M and N are the input matrix dimensions.\n",
      "To use the future default and silence this warning we advise to pass `rcond=None`, to keep using the old, explicitly pass `rcond=-1`.\n",
      "  coefs, resid, _, _ = np.linalg.lstsq(A, x)\n"
     ]
    },
    {
     "ename": "NameError",
     "evalue": "name 'f' is not defined",
     "output_type": "error",
     "traceback": [
      "\u001b[1;31m---------------------------------------------------------------------------\u001b[0m",
      "\u001b[1;31mNameError\u001b[0m                                 Traceback (most recent call last)",
      "\u001b[1;32m<ipython-input-4-41116d56d9a7>\u001b[0m in \u001b[0;36m<module>\u001b[1;34m\u001b[0m\n\u001b[0;32m     15\u001b[0m \u001b[0mprint\u001b[0m\u001b[1;33m(\u001b[0m\u001b[1;34m'x0 = {:.2f} cm, v0 = {:.2f} cm.s-1, g = {:.2f} m.s-2'\u001b[0m\u001b[1;33m.\u001b[0m\u001b[0mformat\u001b[0m\u001b[1;33m(\u001b[0m\u001b[0mx0\u001b[0m\u001b[1;33m,\u001b[0m \u001b[0mv0\u001b[0m\u001b[1;33m,\u001b[0m \u001b[0mg\u001b[0m\u001b[1;33m)\u001b[0m\u001b[1;33m)\u001b[0m\u001b[1;33m\u001b[0m\u001b[1;33m\u001b[0m\u001b[0m\n\u001b[0;32m     16\u001b[0m \u001b[1;33m\u001b[0m\u001b[0m\n\u001b[1;32m---> 17\u001b[1;33m \u001b[0mxfit\u001b[0m \u001b[1;33m=\u001b[0m \u001b[0mPolynomial\u001b[0m\u001b[1;33m(\u001b[0m\u001b[0mcoefs\u001b[0m\u001b[1;33m)\u001b[0m\u001b[1;33m(\u001b[0m\u001b[0mf\u001b[0m\u001b[1;33m)\u001b[0m\u001b[1;33m\u001b[0m\u001b[1;33m\u001b[0m\u001b[0m\n\u001b[0m\u001b[0;32m     18\u001b[0m \u001b[0mpylab\u001b[0m\u001b[1;33m.\u001b[0m\u001b[0mplot\u001b[0m\u001b[1;33m(\u001b[0m\u001b[0mt\u001b[0m\u001b[1;33m,\u001b[0m \u001b[0mx\u001b[0m\u001b[1;33m,\u001b[0m \u001b[1;34m'ko'\u001b[0m\u001b[1;33m)\u001b[0m\u001b[1;33m\u001b[0m\u001b[1;33m\u001b[0m\u001b[0m\n\u001b[0;32m     19\u001b[0m \u001b[0mpylab\u001b[0m\u001b[1;33m.\u001b[0m\u001b[0mplot\u001b[0m\u001b[1;33m(\u001b[0m\u001b[0mt\u001b[0m\u001b[1;33m,\u001b[0m \u001b[0mxfit\u001b[0m\u001b[1;33m,\u001b[0m \u001b[1;34m'r'\u001b[0m\u001b[1;33m)\u001b[0m\u001b[1;33m\u001b[0m\u001b[1;33m\u001b[0m\u001b[0m\n",
      "\u001b[1;31mNameError\u001b[0m: name 'f' is not defined"
     ]
    }
   ],
   "source": [
    "import numpy as np\n",
    "import pylab\n",
    "Polynomial = np.polynomial.Polynomial\n",
    "\n",
    "x = np.array([1.3, 6.0, 20.2, 43.9, 77.0, 119.6, 171.7, 233.2, 304.2, 384.7, 474.7, 574.1, 683.0, 801.3, 929.2, 1066.4, 1213.2, 1369.4, 1535.1, 1710.3, 1894.9])\n",
    "dt, n = 0.1, len(x)\n",
    "tmax = dt * (n-1)\n",
    "t = np.linspace(0, tmax, n)\n",
    "\n",
    "A = np.vstack((np.ones(n), t, t**2)).T\n",
    "coefs, resid, _, _ = np.linalg.lstsq(A, x)\n",
    "\n",
    "x0, v0, g = coefs[0], coefs[1], coefs[2] * 2 / 100\n",
    "\n",
    "print('x0 = {:.2f} cm, v0 = {:.2f} cm.s-1, g = {:.2f} m.s-2'.format(x0, v0, g))\n",
    "\n",
    "xfit = Polynomial(coefs)(f)\n",
    "pylab.plot(t, x, 'ko')\n",
    "pylab.plot(t, xfit, 'r')\n",
    "pylab.xlabel('Time (sec)')\n",
    "pylab.ylabel('Distance (cm)')\n",
    "pylab.show()"
   ]
  },
  {
   "cell_type": "code",
   "execution_count": null,
   "id": "370662dd",
   "metadata": {},
   "outputs": [],
   "source": []
  }
 ],
 "metadata": {
  "kernelspec": {
   "display_name": "Python 3",
   "language": "python",
   "name": "python3"
  },
  "language_info": {
   "codemirror_mode": {
    "name": "ipython",
    "version": 3
   },
   "file_extension": ".py",
   "mimetype": "text/x-python",
   "name": "python",
   "nbconvert_exporter": "python",
   "pygments_lexer": "ipython3",
   "version": "3.8.8"
  }
 },
 "nbformat": 4,
 "nbformat_minor": 5
}
